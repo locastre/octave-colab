{
  "nbformat": 4,
  "nbformat_minor": 0,
  "metadata": {
    "colab": {
      "name": "clean copy of build_octave5.2.ipynb",
      "provenance": [],
      "toc_visible": true,
      "authorship_tag": "ABX9TyNlMG87zslovwbGKRzhtZ3+",
      "include_colab_link": true
    },
    "kernelspec": {
      "name": "python3",
      "display_name": "Python 3"
    }
  },
  "cells": [
    {
      "cell_type": "markdown",
      "metadata": {
        "id": "view-in-github",
        "colab_type": "text"
      },
      "source": [
        "<a href=\"https://colab.research.google.com/github/locastre/octave-colab/blob/master/build_octave6_1.ipynb\" target=\"_parent\"><img src=\"https://colab.research.google.com/assets/colab-badge.svg\" alt=\"Open In Colab\"/></a>"
      ]
    },
    {
      "cell_type": "markdown",
      "metadata": {
        "id": "xs40aZdvCXQm"
      },
      "source": [
        "References: https://wiki.octave.org/Building | https://wiki.octave.org/Octave_for_Debian_systems#The_right_way"
      ]
    },
    {
      "cell_type": "code",
      "metadata": {
        "id": "saCLa9GeI5fo"
      },
      "source": [
        "!apt-get update"
      ],
      "execution_count": null,
      "outputs": []
    },
    {
      "cell_type": "markdown",
      "metadata": {
        "id": "Rd3v-GK8uDdf"
      },
      "source": [
        "Install dependencies to make Octave v5.2.0"
      ]
    },
    {
      "cell_type": "code",
      "metadata": {
        "id": "VK6JeN3KJD5u"
      },
      "source": [
        "!apt-get install gcc g++ gfortran make libblas-dev liblapack-dev libpcre3-dev libarpack2-dev libcurl4-gnutls-dev epstool libfftw3-dev transfig libfltk1.3-dev libfontconfig1-dev libfreetype6-dev libgl2ps-dev libglpk-dev libreadline-dev gnuplot-x11 libgraphicsmagick++1-dev libhdf5-serial-dev openjdk-8-jdk libsndfile1-dev llvm-dev lpr texinfo libgl1-mesa-dev libosmesa6-dev pstoedit portaudio19-dev libqhull-dev libqrupdate-dev libqscintilla2-dev libsuitesparse-dev texlive texlive-generic-recommended libxft-dev zlib1g-dev autoconf automake bison flex gperf gzip icoutils librsvg2-bin libtool perl rsync tar qtbase5-dev qttools5-dev qttools5-dev-tools libqscintilla2-qt5-dev wget git libsundials-dev gnuplot"
      ],
      "execution_count": null,
      "outputs": []
    },
    {
      "cell_type": "markdown",
      "metadata": {
        "id": "1oYxXx9NCP9h"
      },
      "source": [
        "Create build and install location (\"prefix\")"
      ]
    },
    {
      "cell_type": "code",
      "metadata": {
        "id": "cgIXXYc7JTbp"
      },
      "source": [
        "!mkdir build octave5.2"
      ],
      "execution_count": null,
      "outputs": []
    },
    {
      "cell_type": "markdown",
      "metadata": {
        "id": "j6-xuR2WCVMx"
      },
      "source": [
        "Download & extract source files"
      ]
    },
    {
      "cell_type": "code",
      "metadata": {
        "id": "1pZ4qy4PJkNl"
      },
      "source": [
        "!wget https://ftpmirror.gnu.org/octave/octave-5.2.0.tar.gz"
      ],
      "execution_count": null,
      "outputs": []
    },
    {
      "cell_type": "code",
      "metadata": {
        "id": "hj-PwZ9cKciG"
      },
      "source": [
        "!tar -xzf octave-5.2.0.tar.gz"
      ],
      "execution_count": null,
      "outputs": []
    },
    {
      "cell_type": "markdown",
      "metadata": {
        "id": "9xulLYktCxKQ"
      },
      "source": [
        "Change to working directory for build"
      ]
    },
    {
      "cell_type": "code",
      "metadata": {
        "id": "SAdsiCzBPNqa"
      },
      "source": [
        "import os\n",
        "os.chdir('/content/build')\n",
        "os.getcwd()"
      ],
      "execution_count": null,
      "outputs": []
    },
    {
      "cell_type": "markdown",
      "metadata": {
        "id": "6hy8sW2NDPOi"
      },
      "source": [
        "Configure, make & install"
      ]
    },
    {
      "cell_type": "code",
      "metadata": {
        "id": "6ur1v4wXQc69"
      },
      "source": [
        "! ./../octave-5.2.0/configure --prefix=/content/octave5.2 JAVA_HOME=/usr/lib/jvm/java-1.8.0-openjdk-amd64"
      ],
      "execution_count": null,
      "outputs": []
    },
    {
      "cell_type": "code",
      "metadata": {
        "id": "RklQPO5NQgMm"
      },
      "source": [
        "!make -j2"
      ],
      "execution_count": null,
      "outputs": []
    },
    {
      "cell_type": "code",
      "metadata": {
        "id": "mvBrHmr0Qub4"
      },
      "source": [
        "!make install"
      ],
      "execution_count": null,
      "outputs": []
    },
    {
      "cell_type": "markdown",
      "metadata": {
        "id": "x7H745mVDRy3"
      },
      "source": [
        "Install octave_kernel"
      ]
    },
    {
      "cell_type": "code",
      "metadata": {
        "id": "smeX9_ldRnr7"
      },
      "source": [
        "!pip install oct2py"
      ],
      "execution_count": null,
      "outputs": []
    },
    {
      "cell_type": "code",
      "metadata": {
        "id": "3EHu5hpRRrwc"
      },
      "source": [
        "os.environ['OCTAVE_EXECUTABLE'] = '/content/octave5.2/bin'"
      ],
      "execution_count": null,
      "outputs": []
    },
    {
      "cell_type": "code",
      "metadata": {
        "id": "kAm1xTk5SjXm"
      },
      "source": [
        "os.environ['PATH'] = '/content/octave5.2/bin:' + os.environ['PATH']"
      ],
      "execution_count": null,
      "outputs": []
    },
    {
      "cell_type": "markdown",
      "metadata": {
        "id": "7haB_GV0Lp7w"
      },
      "source": [
        "Install Octave Kernel module"
      ]
    },
    {
      "cell_type": "code",
      "metadata": {
        "id": "ywHjuLHkS9U_"
      },
      "source": [
        "!pip install octave_kernel"
      ],
      "execution_count": null,
      "outputs": []
    },
    {
      "cell_type": "code",
      "metadata": {
        "id": "0EDNLLRvTeEl"
      },
      "source": [
        "import octave_kernel"
      ],
      "execution_count": null,
      "outputs": []
    },
    {
      "cell_type": "markdown",
      "metadata": {
        "id": "-OSxc24GLtV0"
      },
      "source": [
        "Alternative: install oct2py"
      ]
    },
    {
      "cell_type": "code",
      "metadata": {
        "id": "-G0ubTq4LvFF"
      },
      "source": [
        "os.environ['OCTAVE_EXECUTABLE'] = '/content/octave5.2/bin/octave-cli'\n",
        "os.environ['PATH'] = '/content/octave5.2/bin:' + os.environ['PATH']\n",
        "import oct2py"
      ],
      "execution_count": null,
      "outputs": []
    },
    {
      "cell_type": "markdown",
      "metadata": {
        "id": "EisbWtyoF1A-"
      },
      "source": [
        "Clone git repository"
      ]
    },
    {
      "cell_type": "code",
      "metadata": {
        "id": "q2ZUMoERFxNh"
      },
      "source": [
        "os.chdir('/content')"
      ],
      "execution_count": null,
      "outputs": []
    },
    {
      "cell_type": "code",
      "metadata": {
        "id": "daCXf0LLF9Iz"
      },
      "source": [
        "!git clone https://github.com/cerr/CERR.git"
      ],
      "execution_count": null,
      "outputs": []
    }
  ]
}
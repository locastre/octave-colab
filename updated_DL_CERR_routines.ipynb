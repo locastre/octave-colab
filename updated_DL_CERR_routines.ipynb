{
  "nbformat": 4,
  "nbformat_minor": 0,
  "metadata": {
    "accelerator": "GPU",
    "colab": {
      "name": "DL_CERR_routines.ipynb",
      "provenance": [],
      "collapsed_sections": [],
      "include_colab_link": true
    },
    "kernelspec": {
      "display_name": "Python 3",
      "name": "python3"
    }
  },
  "cells": [
    {
      "cell_type": "markdown",
      "metadata": {
        "id": "view-in-github",
        "colab_type": "text"
      },
      "source": [
        "<a href=\"https://colab.research.google.com/github/locastre/octave-colab/blob/master/updated_DL_CERR_routines.ipynb\" target=\"_parent\"><img src=\"https://colab.research.google.com/assets/colab-badge.svg\" alt=\"Open In Colab\"/></a>"
      ]
    },
    {
      "cell_type": "markdown",
      "metadata": {
        "id": "8QAWNjizy_3O"
      },
      "source": [
        "#  Deep learning-based segmentation of ~~Heart Sub-Structure~~ Chewing and Swallowing Structures\n",
        "\n",
        "This notebook demonstrates the application of a deep neural network model on CERR planning CT\n",
        "\n",
        "---\n"
      ]
    },
    {
      "cell_type": "markdown",
      "metadata": {
        "id": "GM7UIQv5zZvi"
      },
      "source": [
        "\n",
        "### Install Octave 6.2"
      ]
    },
    {
      "cell_type": "code",
      "metadata": {
        "id": "ldsdNv1GveUh"
      },
      "source": [
        "#install library dependencies\n",
        "%%capture\n",
        "! apt-get update\n",
        "! apt-get install libgraphicsmagick++1-dev libsuitesparse-dev libqrupdate1 libfftw3-3 gnuplot\n",
        "! pip install octave_kernel\n",
        "! pip install oct2py"
      ],
      "execution_count": null,
      "outputs": []
    },
    {
      "cell_type": "code",
      "metadata": {
        "id": "H_QoLQZjl91L"
      },
      "source": [
        "# download compiled octave package (latest)\n",
        "%%capture\n",
        "import urllib.request, json, os\n",
        "os.chdir('/content')\n",
        "with urllib.request.urlopen(\"https://api.github.com/repos/cerr/octave-colab/releases/latest\") as url:\n",
        "    data = json.loads(url.read().decode())\n",
        "fname = data['assets'][0]['name']\n",
        "requrl = data['assets'][0]['browser_download_url']\n",
        "urllib.request.urlretrieve(requrl, fname)"
      ],
      "execution_count": null,
      "outputs": []
    },
    {
      "cell_type": "code",
      "metadata": {
        "id": "MeePKQekFvO4",
        "colab": {
          "base_uri": "https://localhost:8080/"
        },
        "outputId": "748a224e-0a27-4ba3-974f-4fc67314c052"
      },
      "source": [
        "# unzip, identify octave folder name\n",
        "!tar xf {fname}\n",
        "top_folder = !tar tf {fname} | head -1\n",
        "octave_path = top_folder[0][:-1]\n",
        "print(octave_path)"
      ],
      "execution_count": null,
      "outputs": [
        {
          "output_type": "stream",
          "name": "stdout",
          "text": [
            "octave6.2.0\n"
          ]
        }
      ]
    },
    {
      "cell_type": "code",
      "metadata": {
        "id": "V_TtP-29nPYb"
      },
      "source": [
        "import os\n",
        "os.environ['OCTAVE_EXECUTABLE'] = '/content/' + octave_path + '/bin/octave-cli'\n",
        "os.environ['PATH'] = '/content/' + octave_path + '/bin:' + os.environ['PATH']"
      ],
      "execution_count": null,
      "outputs": []
    },
    {
      "cell_type": "code",
      "metadata": {
        "id": "v_13O9EliN-6"
      },
      "source": [
        "import oct2py\n",
        "import octave_kernel\n",
        "from oct2py import octave\n",
        "%load_ext oct2py.ipython"
      ],
      "execution_count": null,
      "outputs": []
    },
    {
      "cell_type": "code",
      "metadata": {
        "id": "FniAPMOLlxow"
      },
      "source": [
        "%%octave\n",
        "\n",
        "warning('off','all')"
      ],
      "execution_count": null,
      "outputs": []
    },
    {
      "cell_type": "code",
      "metadata": {
        "id": "XVqUXaWoe37Y"
      },
      "source": [
        "%%octave\n",
        "\n",
        "pkg load image\n",
        "pkg load io\n",
        "pkg load statistics"
      ],
      "execution_count": null,
      "outputs": []
    },
    {
      "cell_type": "code",
      "metadata": {
        "id": "_DCbblX_XKb5"
      },
      "source": [
        "#clean up\n",
        "os.chdir('/content')\n",
        "os.remove(fname)"
      ],
      "execution_count": null,
      "outputs": []
    },
    {
      "cell_type": "markdown",
      "metadata": {
        "id": "sREbTvIKOSSr"
      },
      "source": [
        "### Download the pretrained models"
      ]
    },
    {
      "cell_type": "code",
      "metadata": {
        "id": "fvJUPw8xUKFM",
        "colab": {
          "base_uri": "https://localhost:8080/"
        },
        "outputId": "ec260bd6-5916-4ebe-8b48-bd7d9c0d70ba"
      },
      "source": [
        "os.chdir('/content')\n",
        "!git clone https://github.com/cerr/CT_SwallowingAndChewing_DeepLabV3.git\n",
        "with urllib.request.urlopen(\"https://api.github.com/repos/cerr/CT_SwallowingAndChewing_DeepLabV3/releases/latest\") as url:\n",
        "    data = json.loads(url.read().decode())\n",
        "tag_name = data['tag_name']\n",
        "!cd CT_SwallowingAndChewing_DeepLabV3 && git checkout {tag_name}"
      ],
      "execution_count": null,
      "outputs": [
        {
          "output_type": "stream",
          "name": "stdout",
          "text": [
            "fatal: destination path 'CT_SwallowingAndChewing_DeepLabV3' already exists and is not an empty directory.\n",
            "HEAD is now at f325500c Merge pull request #8 from aditiiyer/Windows\n"
          ]
        }
      ]
    },
    {
      "cell_type": "markdown",
      "metadata": {
        "id": "CvUbr1J9OWyY"
      },
      "source": [
        "### Download CERR"
      ]
    },
    {
      "cell_type": "code",
      "metadata": {
        "id": "_xIfL4HDzll7",
        "colab": {
          "base_uri": "https://localhost:8080/"
        },
        "outputId": "062d5629-6901-47b3-d95a-dd03a52c2313"
      },
      "source": [
        "os.chdir('/content')\n",
        "#commit_hash = '26587ebd684629ecda517e2d6bb294b10fffb35e'\n",
        "commit_hash = '3a13b87'\n",
        "!git clone https://github.com/cerr/CERR.git\n",
        "!cd /content/CERR && git checkout octave_dev && git checkout {commit_hash}"
      ],
      "execution_count": null,
      "outputs": [
        {
          "output_type": "stream",
          "name": "stdout",
          "text": [
            "fatal: destination path 'CERR' already exists and is not an empty directory.\n",
            "Checking out files: 100% (475/475), done.\n",
            "Previous HEAD position was 3a13b876 Added resampled H&N dataset\n",
            "Switched to branch 'octave_dev'\n",
            "Your branch is up to date with 'origin/octave_dev'.\n",
            "Note: checking out '3a13b87'.\n",
            "\n",
            "You are in 'detached HEAD' state. You can look around, make experimental\n",
            "changes and commit them, and you can discard any commits you make in this\n",
            "state without impacting any branches by performing another checkout.\n",
            "\n",
            "If you want to create a new branch to retain commits you create, you may\n",
            "do so (now or later) by using -b with the checkout command again. Example:\n",
            "\n",
            "  git checkout -b <new-branch-name>\n",
            "\n",
            "HEAD is now at 3a13b876 Added resampled H&N dataset\n"
          ]
        }
      ]
    },
    {
      "cell_type": "markdown",
      "metadata": {
        "id": "wakPx2UrOJdn"
      },
      "source": [
        "### Create conda environment for model and its dependencies"
      ]
    },
    {
      "cell_type": "code",
      "metadata": {
        "id": "dJRsK0laKPI5"
      },
      "source": [
        "%%capture\n",
        "os.chdir('/content')\n",
        "!wget https://repo.anaconda.com/miniconda/Miniconda3-py37_4.8.2-Linux-x86_64.sh\n",
        "!chmod +x Miniconda3-py37_4.8.2-Linux-x86_64.sh\n",
        "!bash ./Miniconda3-py37_4.8.2-Linux-x86_64.sh -b -f -p /usr/local"
      ],
      "execution_count": null,
      "outputs": []
    },
    {
      "cell_type": "code",
      "metadata": {
        "id": "RbyHeYAWLZKF"
      },
      "source": [
        "%%capture\n",
        "!conda env create -f /content/CT_SwallowingAndChewing_DeepLabV3/environment.yml"
      ],
      "execution_count": null,
      "outputs": []
    },
    {
      "cell_type": "markdown",
      "metadata": {
        "id": "F_XcME7KOZXB"
      },
      "source": [
        "### Apply segmentation models to sample data"
      ]
    },
    {
      "cell_type": "code",
      "metadata": {
        "colab": {
          "base_uri": "https://localhost:8080/",
          "height": 86
        },
        "id": "hRWe6py8oqtm",
        "outputId": "94a920b2-39ab-4b59-d6b5-a998db2ac985"
      },
      "source": [
        "octave.addpath(octave.genpath('/content/CERR'))"
      ],
      "execution_count": null,
      "outputs": [
        {
          "output_type": "execute_result",
          "data": {
            "application/vnd.google.colaboratory.intrinsic+json": {
              "type": "string"
            },
            "text/plain": [
              "'.:/content/CERR:/content/octave6.2.0/share/octave/packages/statistics-1.4.2/base:/content/octave6.2.0/share/octave/packages/statistics-1.4.2/distributions:/content/octave6.2.0/share/octave/packages/statistics-1.4.2/models:/content/octave6.2.0/share/octave/packages/statistics-1.4.2/tests:/content/octave6.2.0/share/octave/packages/statistics-1.4.2:/content/octave6.2.0/lib/octave/packages/io-2.6.3/x86_64-pc-linux-gnu-api-v55:/content/octave6.2.0/share/octave/packages/io-2.6.3:/content/octave6.2.0/lib/octave/packages/image-2.12.0/x86_64-pc-linux-gnu-api-v55:/content/octave6.2.0/share/octave/packages/image-2.12.0:/usr/local/lib/python3.7/dist-packages/oct2py:/usr/local/lib/python3.7/dist-packages/octave_kernel:/content/octave6.2.0/lib/octave/6.2.0/site/oct/x86_64-pc-linux-gnu:/content/octave6.2.0/lib/octave/site/oct/api-v55/x86_64-pc-linux-gnu:/content/octave6.2.0/lib/octave/site/oct/x86_64-pc-linux-gnu:/content/octave6.2.0/share/octave/6.2.0/site/m:/content/octave6.2.0/share/octave/site/api-v55/m:/content/octave6.2.0/share/octave/site/m:/content/octave6.2.0/share/octave/site/m/startup:/content/octave6.2.0/lib/octave/6.2.0/oct/x86_64-pc-linux-gnu:/content/octave6.2.0/share/octave/6.2.0/m:/content/octave6.2.0/share/octave/6.2.0/m/audio:/content/octave6.2.0/share/octave/6.2.0/m/deprecated:/content/octave6.2.0/share/octave/6.2.0/m/elfun:/content/octave6.2.0/share/octave/6.2.0/m/general:/content/octave6.2.0/share/octave/6.2.0/m/geometry:/content/octave6.2.0/share/octave/6.2.0/m/gui:/content/octave6.2.0/share/octave/6.2.0/m/help:/content/octave6.2.0/share/octave/6.2.0/m/image:/content/octave6.2.0/share/octave/6.2.0/m/io:/content/octave6.2.0/share/octave/6.2.0/m/java:/content/octave6.2.0/share/octave/6.2.0/m/legacy:/content/octave6.2.0/share/octave/6.2.0/m/linear-algebra:/content/octave6.2.0/share/octave/6.2.0/m/miscellaneous:/content/octave6.2.0/share/octave/6.2.0/m/ode:/content/octave6.2.0/share/octave/6.2.0/m/optimization:/content/octave6.2.0/share/octave/6.2.0/m/path:/content/octave6.2.0/share/octave/6.2.0/m/pkg:/content/octave6.2.0/share/octave/6.2.0/m/plot:/content/octave6.2.0/share/octave/6.2.0/m/plot/appearance:/content/octave6.2.0/share/octave/6.2.0/m/plot/draw:/content/octave6.2.0/share/octave/6.2.0/m/plot/util:/content/octave6.2.0/share/octave/6.2.0/m/polynomial:/content/octave6.2.0/share/octave/6.2.0/m/prefs:/content/octave6.2.0/share/octave/6.2.0/m/profiler:/content/octave6.2.0/share/octave/6.2.0/m/set:/content/octave6.2.0/share/octave/6.2.0/m/signal:/content/octave6.2.0/share/octave/6.2.0/m/sparse:/content/octave6.2.0/share/octave/6.2.0/m/specfun:/content/octave6.2.0/share/octave/6.2.0/m/special-matrix:/content/octave6.2.0/share/octave/6.2.0/m/startup:/content/octave6.2.0/share/octave/6.2.0/m/statistics:/content/octave6.2.0/share/octave/6.2.0/m/strings:/content/octave6.2.0/share/octave/6.2.0/m/testfun:/content/octave6.2.0/share/octave/6.2.0/m/time:/content/octave6.2.0/share/octave/6.2.0/m/web:/content/octave6.2.0/share/octave/6.2.0/data'"
            ]
          },
          "metadata": {},
          "execution_count": 21
        }
      ]
    },
    {
      "cell_type": "code",
      "metadata": {
        "colab": {
          "base_uri": "https://localhost:8080/"
        },
        "id": "nEWKsoRp4_zQ",
        "outputId": "b43e3108-e562-4f6d-9d38-527402ccd2ca"
      },
      "source": [
        "sampleData = '/content/CERR/Unit_Testing/data_for_cerr_tests/' + \\\n",
        "              'CERR_plans/head_neck_ex1_20may03_resamp.mat.bz2'\n",
        "%octave_push sampleData\n",
        "planC = octave.loadPlanC(sampleData, octave.tempdir())\n",
        "planC = octave.updatePlanFields(planC)\n",
        "planC = octave.quality_assure_planC(sampleData, planC)\n",
        "\n",
        "algorithm = 'CT_ChewingStructures_DeepLabV3^CT_Larynx_DeepLabV3^' + \\\n",
        "            'CT_PharyngealConstrictor_DeepLabV3';\n",
        "sessionPath = '/content/temp';\n",
        "functionName = '/content/CT_SwallowingAndChewing_DeepLabV3/' + \\\n",
        "               'model_wrapper/CT_ChewingStructures_DeepLabV3/chewing_main.py^' + \\\n",
        "               '/content/CT_SwallowingAndChewing_DeepLabV3/' + \\\n",
        "               'model_wrapper/CT_Larynx_DeepLabV3/larynx_main.py^' + \\\n",
        "               '/content/CT_SwallowingAndChewing_DeepLabV3/' + \\\n",
        "               'model_wrapper/CT_PharyngealConstrictor_DeepLabV3/' + \\\n",
        "               'pharyngeal_constrictor_main.py';\n",
        "condaEnvName = 'swChewEnv'"
      ],
      "execution_count": null,
      "outputs": [
        {
          "output_type": "stream",
          "name": "stdout",
          "text": [
            "CERR>>  Decompressing head_neck_ex1_20may03_resamp.mat.bz2...\n",
            "\n",
            "ans = 0\n",
            "CERR>>  Loading head_neck_ex1_20may03_resamp.mat.bz2...\n",
            "CERR>>  Loaded head_neck_ex1_20may03_resamp.mat.bz2...\n"
          ]
        }
      ]
    },
    {
      "cell_type": "code",
      "metadata": {
        "id": "Gf6cNrB0NPwJ"
      },
      "source": [
        "%%capture\n",
        "\n",
        "planC = octave.runSegForPlanCInCondaEnv(planC,sessionPath,algorithm, \\\n",
        "                                        functionName,[],condaEnvName);"
      ],
      "execution_count": null,
      "outputs": []
    },
    {
      "cell_type": "markdown",
      "metadata": {
        "id": "-NDZx4Sbk9EU"
      },
      "source": [
        "### Display segmentations"
      ]
    },
    {
      "cell_type": "code",
      "metadata": {
        "id": "YeBnHvxzzsnQ"
      },
      "source": [
        "from oct2py import octave\n",
        "%octave_push planC"
      ],
      "execution_count": null,
      "outputs": []
    },
    {
      "cell_type": "code",
      "metadata": {
        "id": "tPvSN0NSorhu"
      },
      "source": [
        "%%octave\n",
        "\n",
        "addpath(genpath('/content/CERR'))\n",
        "\n",
        "%Get scan array\n",
        "indexS = planC{end};\n",
        "scanNum = 1;\n",
        "ctOffset = planC{indexS.scan}(scanNum).scanInfo(1).CTOffset;\n",
        "scanArray = single(getScanArray(scanNum,planC)) - ctOffset;\n",
        "\n",
        "%Get structure labels & masks\n",
        "numStructs = length(planC{indexS.structures});\n",
        "structNameC = {planC{indexS.structures}.structureName};\n",
        "strNameC = {'Left_masseter', 'Right_masseter', 'Left_medial_pterygoid',...\n",
        "              'Right_medial_pterygoid', 'Larynx_DLabV3', 'Constrictor_muscle'};\n",
        "for strNum = 1:length(strNameC)\n",
        "    strx = strNameC{strNum};\n",
        "    idx = getMatchingIndex(strx,structNameC,'EXACT');\n",
        "    mask3M = getStrMask(idx, planC);\n",
        "    maskC{strNum} = mask3M;\n",
        "end"
      ],
      "execution_count": null,
      "outputs": []
    },
    {
      "cell_type": "code",
      "metadata": {
        "id": "XvGdHKBcrRSl"
      },
      "source": [
        "%octave_pull maskC strNameC scanArray"
      ],
      "execution_count": null,
      "outputs": []
    },
    {
      "cell_type": "code",
      "metadata": {
        "id": "py74hcijGu3_"
      },
      "source": [
        "import matplotlib.pyplot as plt\n",
        "import numpy as np\n",
        "from IPython.display import clear_output\n",
        "import ipywidgets as widgets\n",
        "\n",
        "dx, dy = 1, 1\n",
        "\n",
        "x = np.arange(0, 255, dx)\n",
        "y = np.arange(0, 255, dy)\n",
        "extent = np.min(x), np.max(x), np.min(y), np.max(y)\n",
        "\n",
        "clear_output(wait=True)\n",
        "\n",
        "def window_image(image, window_center, window_width):\n",
        "    img_min = window_center - window_width // 2\n",
        "    img_max = window_center + window_width // 2\n",
        "    window_image = image.copy()\n",
        "    window_image[window_image < img_min] = img_min\n",
        "    window_image[window_image > img_max] = img_max\n",
        "    \n",
        "    return window_image\n",
        "\n",
        "def show_axial_slice(slcNum):\n",
        "    clear_output(wait=True)\n",
        "    print('Slice '+str(slcNum))\n",
        "    if 'fig' in locals():\n",
        "        fig.remove()\n",
        "    fig, ax = plt.subplots()\n",
        "    window_center = 45\n",
        "    window_width = 125\n",
        "    windowed_img = window_image(scanArray[:,:,slcNum-1],\n",
        "                                window_center,window_width)\n",
        "    im1 = ax.imshow(windowed_img, cmap=plt.cm.gray, alpha=1,\n",
        "                    interpolation='nearest', extent=extent)\n",
        "    \n",
        "    cmaps = [plt.cm.Oranges,plt.cm.Oranges,plt.cm.Blues,plt.cm.Blues, \\\n",
        "             plt.cm.Purples,plt.cm.Greens]\n",
        "\n",
        "    for maskNum in range(0,6,1):\n",
        "        mask_cmap = cmaps[maskNum]\n",
        "        mask_cmap.set_under('k', alpha=0)\n",
        "        im2 = ax.imshow(maskC[0,maskNum][:,:,slcNum-1], \n",
        "                        cmap=mask_cmap, alpha=.8, extent=extent,\n",
        "                        interpolation='none', clim=[0.5, 1])        \n",
        "    plt.show()\n",
        "\n",
        "slice_slider = widgets.IntSlider(min=1,max=79,step=1)\n",
        "outputSlc = widgets.Output()\n",
        "\n",
        "display(slice_slider, outputSlc)\n",
        "\n",
        "def update_slice(change):\n",
        "    with outputSlc:\n",
        "        show_axial_slice(change['new'])\n",
        "\n",
        "slice_slider.observe(update_slice, names='value')\n"
      ],
      "execution_count": null,
      "outputs": []
    }
  ]
}
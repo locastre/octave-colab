{
  "nbformat": 4,
  "nbformat_minor": 0,
  "metadata": {
    "colab": {
      "name": "octave_deploy.ipynb",
      "provenance": [],
      "collapsed_sections": [],
      "authorship_tag": "ABX9TyM9cikTKq+LjVpbx4VV6Qof",
      "include_colab_link": true
    },
    "kernelspec": {
      "name": "python3",
      "display_name": "Python 3"
    },
    "language_info": {
      "name": "python"
    },
    "accelerator": "GPU"
  },
  "cells": [
    {
      "cell_type": "markdown",
      "metadata": {
        "id": "view-in-github",
        "colab_type": "text"
      },
      "source": [
        "<a href=\"https://colab.research.google.com/github/locastre/octave-colab/blob/master/octave_deploy.ipynb\" target=\"_parent\"><img src=\"https://colab.research.google.com/assets/colab-badge.svg\" alt=\"Open In Colab\"/></a>"
      ]
    },
    {
      "cell_type": "markdown",
      "metadata": {
        "id": "by-Fa16jsFL7"
      },
      "source": [
        "# CERRx @ colab"
      ]
    },
    {
      "cell_type": "markdown",
      "metadata": {
        "id": "8cxydp--X9w1"
      },
      "source": [
        "### Download software and set up dependencies\n",
        "CERR, GNU Octave, and oct2py"
      ]
    },
    {
      "cell_type": "code",
      "metadata": {
        "id": "7H-Kq-A6aUQB"
      },
      "source": [
        "import os, subprocess, urllib.request, json\n",
        "from glob import glob"
      ],
      "execution_count": null,
      "outputs": []
    },
    {
      "cell_type": "code",
      "metadata": {
        "id": "9vIprC1MeVkI"
      },
      "source": [
        "%%capture\n",
        "! apt-get update\n",
        "! apt-get install libgraphicsmagick++1-dev libsuitesparse-dev libqrupdate1 libfftw3-3 gnuplot zsh\n",
        "! pip install oct2py octave_kernel"
      ],
      "execution_count": null,
      "outputs": []
    },
    {
      "cell_type": "code",
      "metadata": {
        "id": "bA41jNJjZjF-"
      },
      "source": [
        "# download compiled octave package (latest)\n",
        "def get_CERRoctave(root_path):\n",
        "  os.chdir(root_path)\n",
        "  with urllib.request.urlopen(\"https://api.github.com/repos/cerr/octave-colab/releases/latest\") as url:\n",
        "      data = json.loads(url.read().decode())\n",
        "  fname = data['assets'][0]['name']\n",
        "  requrl = data['assets'][0]['browser_download_url']\n",
        "  urllib.request.urlretrieve(requrl, fname)\n",
        "  # unzip, identify octave folder name\n",
        "  !tar xf {fname}\n",
        "  top_folder = !tar tf {fname} | head -1\n",
        "  octave_folder = top_folder[0][:-1]\n",
        "  octave_path = os.path.join(root_path,octave_folder)\n",
        "  !git clone https://github.com/cerr/CERR.git\n",
        "  !cd CERR && git checkout octave_dev\n",
        "  cerr_path = os.path.join(root_path,'CERR')\n",
        "  return octave_path, cerr_path\n",
        "\n",
        "\n",
        "octave_path,cerr_path = get_CERRoctave('/content')\n",
        "os.environ['OCTAVE_EXECUTABLE'] = octave_path + '/bin/octave-cli'\n",
        "os.environ['PATH'] = octave_path + '/bin:' + os.environ['PATH']"
      ],
      "execution_count": null,
      "outputs": []
    },
    {
      "cell_type": "code",
      "metadata": {
        "id": "wva3u82JftrC"
      },
      "source": [
        "import oct2py\n",
        "import octave_kernel\n",
        "from oct2py import octave\n",
        "%load_ext oct2py.ipython"
      ],
      "execution_count": null,
      "outputs": []
    },
    {
      "cell_type": "markdown",
      "metadata": {
        "id": "G-PqYT3GvhoS"
      },
      "source": [
        "Initialize Octave with oct2py bridge"
      ]
    },
    {
      "cell_type": "code",
      "metadata": {
        "id": "UWerGIsmXD2Z"
      },
      "source": [
        "%%octave\n",
        "\n",
        "pkg load image\n",
        "pkg load io\n",
        "pkg load statistics\n",
        "\n",
        "warning('off','all')"
      ],
      "execution_count": null,
      "outputs": []
    },
    {
      "cell_type": "code",
      "metadata": {
        "id": "J_oG3mn0ih1B"
      },
      "source": [
        "cerrPath = r'/content/CERR'\n",
        "octave.addpath(cerrPath)\n",
        "octave.addToPath2(cerrPath)"
      ],
      "execution_count": null,
      "outputs": []
    }
  ]
}
